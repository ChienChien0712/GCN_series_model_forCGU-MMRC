{
 "cells": [
  {
   "cell_type": "code",
   "execution_count": 17,
   "id": "0079ce13",
   "metadata": {},
   "outputs": [],
   "source": [
    "import numpy as np\n",
    "import pandas as pd\n",
    "from sklearn import ensemble, preprocessing, metrics\n",
    "\n",
    "from sklearn.model_selection import train_test_split\n",
    "from sklearn.preprocessing import StandardScaler"
   ]
  },
  {
   "cell_type": "code",
   "execution_count": 4,
   "id": "a6198cb4",
   "metadata": {},
   "outputs": [
    {
     "data": {
      "text/html": [
       "<div>\n",
       "<style scoped>\n",
       "    .dataframe tbody tr th:only-of-type {\n",
       "        vertical-align: middle;\n",
       "    }\n",
       "\n",
       "    .dataframe tbody tr th {\n",
       "        vertical-align: top;\n",
       "    }\n",
       "\n",
       "    .dataframe thead th {\n",
       "        text-align: right;\n",
       "    }\n",
       "</style>\n",
       "<table border=\"1\" class=\"dataframe\">\n",
       "  <thead>\n",
       "    <tr style=\"text-align: right;\">\n",
       "      <th></th>\n",
       "      <th>target</th>\n",
       "      <th>feature1</th>\n",
       "      <th>feature2</th>\n",
       "      <th>feature3</th>\n",
       "      <th>feature4</th>\n",
       "      <th>feature5</th>\n",
       "      <th>feature6</th>\n",
       "      <th>feature7</th>\n",
       "    </tr>\n",
       "  </thead>\n",
       "  <tbody>\n",
       "    <tr>\n",
       "      <th>0</th>\n",
       "      <td>AD</td>\n",
       "      <td>0.5</td>\n",
       "      <td>0.5</td>\n",
       "      <td>0.5</td>\n",
       "      <td>0.5</td>\n",
       "      <td>0.5</td>\n",
       "      <td>0</td>\n",
       "      <td>0.5</td>\n",
       "    </tr>\n",
       "    <tr>\n",
       "      <th>1</th>\n",
       "      <td>AD</td>\n",
       "      <td>1.0</td>\n",
       "      <td>1.0</td>\n",
       "      <td>0.5</td>\n",
       "      <td>0.5</td>\n",
       "      <td>0.5</td>\n",
       "      <td>1</td>\n",
       "      <td>0.5</td>\n",
       "    </tr>\n",
       "    <tr>\n",
       "      <th>2</th>\n",
       "      <td>AD</td>\n",
       "      <td>1.0</td>\n",
       "      <td>0.5</td>\n",
       "      <td>1.0</td>\n",
       "      <td>1.0</td>\n",
       "      <td>1.0</td>\n",
       "      <td>0</td>\n",
       "      <td>1.0</td>\n",
       "    </tr>\n",
       "    <tr>\n",
       "      <th>3</th>\n",
       "      <td>AD</td>\n",
       "      <td>2.0</td>\n",
       "      <td>2.0</td>\n",
       "      <td>2.0</td>\n",
       "      <td>1.0</td>\n",
       "      <td>1.0</td>\n",
       "      <td>1</td>\n",
       "      <td>1.0</td>\n",
       "    </tr>\n",
       "    <tr>\n",
       "      <th>4</th>\n",
       "      <td>AD</td>\n",
       "      <td>1.0</td>\n",
       "      <td>1.0</td>\n",
       "      <td>1.0</td>\n",
       "      <td>0.5</td>\n",
       "      <td>0.5</td>\n",
       "      <td>1</td>\n",
       "      <td>1.0</td>\n",
       "    </tr>\n",
       "  </tbody>\n",
       "</table>\n",
       "</div>"
      ],
      "text/plain": [
       "  target  feature1  feature2  feature3  feature4  feature5  feature6  feature7\n",
       "0     AD       0.5       0.5       0.5       0.5       0.5         0       0.5\n",
       "1     AD       1.0       1.0       0.5       0.5       0.5         1       0.5\n",
       "2     AD       1.0       0.5       1.0       1.0       1.0         0       1.0\n",
       "3     AD       2.0       2.0       2.0       1.0       1.0         1       1.0\n",
       "4     AD       1.0       1.0       1.0       0.5       0.5         1       1.0"
      ]
     },
     "execution_count": 4,
     "metadata": {},
     "output_type": "execute_result"
    }
   ],
   "source": [
    "alz_data = pd.read_excel('./dataset/TotalGCN2PET/TotalClinicalScores.xlsx', header=None)\n",
    "col_name = ['target'] + ['feature'+str(i) for i in alz_data.columns[1:]]\n",
    "alz_data.columns = col_name \n",
    "alz_data.head()"
   ]
  },
  {
   "cell_type": "code",
   "execution_count": 19,
   "id": "ff93bc85",
   "metadata": {},
   "outputs": [
    {
     "name": "stdout",
     "output_type": "stream",
     "text": [
      "acc:72.72%\n",
      "std:5.08%\n"
     ]
    }
   ],
   "source": [
    "# repeat 100 times (normalization)\n",
    "ACC = []\n",
    "for _ in range(100):\n",
    "    # 建立training set & testing set\n",
    "    X_train, X_test, y_train, y_test = train_test_split(alz_data[alz_data.columns[1:]], alz_data[['target']], test_size = 0.5)\n",
    "    \n",
    "    #normalization\n",
    "    sc = StandardScaler()\n",
    "    sc.fit(X_train)\n",
    "    X_train_std = sc.transform(X_train)\n",
    "    X_test_std = sc.transform(X_test)    \n",
    "    \n",
    "    # 建立 random forest 模型\n",
    "    forest = ensemble.RandomForestClassifier(n_estimators = 100)\n",
    "    forest_fit = forest.fit(X_train_std, y_train['target'].values)\n",
    "\n",
    "    # 預測\n",
    "    y_test_predicted = forest.predict(X_test_std)\n",
    "\n",
    "    # 績效\n",
    "    accuracy = metrics.accuracy_score(y_test, y_test_predicted)\n",
    "    ACC.append(accuracy)\n",
    "print(f'acc:{np.mean(ACC)*100:.2f}%')\n",
    "print(f'std:{np.std(ACC,ddof=1)*100:.2f}%')"
   ]
  },
  {
   "cell_type": "code",
   "execution_count": 20,
   "id": "f52e058b",
   "metadata": {},
   "outputs": [
    {
     "name": "stdout",
     "output_type": "stream",
     "text": [
      "acc:72.98%\n",
      "std:4.54%\n"
     ]
    }
   ],
   "source": [
    "# repeat 100 times \n",
    "ACC = []\n",
    "for _ in range(100):\n",
    "    # 建立training set & testing set\n",
    "    train_X, test_X, train_y, test_y = train_test_split(alz_data[alz_data.columns[1:]], alz_data[['target']], test_size = 0.5)\n",
    "\n",
    "    # 建立 random forest 模型\n",
    "    forest = ensemble.RandomForestClassifier(n_estimators = 100)\n",
    "    forest_fit = forest.fit(train_X.values, train_y['target'].values)\n",
    "\n",
    "    # 預測\n",
    "    test_y_predicted = forest.predict(test_X)\n",
    "\n",
    "    # 績效\n",
    "    accuracy = metrics.accuracy_score(test_y, test_y_predicted)\n",
    "    ACC.append(accuracy)\n",
    "print(f'acc:{np.mean(ACC)*100:.2f}%')\n",
    "print(f'std:{np.std(ACC,ddof=1)*100:.2f}%')"
   ]
  },
  {
   "cell_type": "code",
   "execution_count": null,
   "id": "da4a2b00",
   "metadata": {},
   "outputs": [],
   "source": []
  }
 ],
 "metadata": {
  "kernelspec": {
   "display_name": "Python 3",
   "language": "python",
   "name": "python3"
  },
  "language_info": {
   "codemirror_mode": {
    "name": "ipython",
    "version": 3
   },
   "file_extension": ".py",
   "mimetype": "text/x-python",
   "name": "python",
   "nbconvert_exporter": "python",
   "pygments_lexer": "ipython3",
   "version": "3.8.8"
  }
 },
 "nbformat": 4,
 "nbformat_minor": 5
}
