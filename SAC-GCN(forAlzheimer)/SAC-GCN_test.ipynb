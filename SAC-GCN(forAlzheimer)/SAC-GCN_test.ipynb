{
 "cells": [
  {
   "cell_type": "code",
   "execution_count": 100,
   "metadata": {},
   "outputs": [],
   "source": [
    "import pandas as pd\n",
    "import numpy as np\n",
    "from scipy.spatial import distance\n",
    "from sklearn.svm import SVC\n",
    "from sklearn.feature_selection import RFE\n",
    "import matplotlib.pyplot as plt"
   ]
  },
  {
   "cell_type": "code",
   "execution_count": 171,
   "metadata": {},
   "outputs": [],
   "source": [
    "folds = 5"
   ]
  },
  {
   "cell_type": "markdown",
   "metadata": {},
   "source": [
    "## Read AV45 Features"
   ]
  },
  {
   "cell_type": "code",
   "execution_count": 106,
   "metadata": {},
   "outputs": [
    {
     "name": "stdout",
     "output_type": "stream",
     "text": [
      "subject number:46\n",
      "length of AV45 Features:4005\n"
     ]
    }
   ],
   "source": [
    "AV45 = pd.ExcelFile('Dataset/AV45_network.xlsx')\n",
    "AV45_features= []\n",
    "for i in AV45.sheet_names:\n",
    "    AV45_corr = AV45.parse(i,header=None)\n",
    "    indices = np.where(np.triu(np.ones(AV45_corr.shape), k=1).astype(bool))\n",
    "    AV45_features.append(list(np.array(AV45_corr)[indices]))\n",
    "print('subject number:%s'%len(AV45_features))\n",
    "print('length of AV45 Features:%s'%len(AV45_features[0]))\n"
   ]
  },
  {
   "cell_type": "markdown",
   "metadata": {},
   "source": [
    "## Read FDG Features"
   ]
  },
  {
   "cell_type": "code",
   "execution_count": 107,
   "metadata": {},
   "outputs": [
    {
     "name": "stdout",
     "output_type": "stream",
     "text": [
      "subject number:46\n",
      "length of FDG Features:4005\n"
     ]
    }
   ],
   "source": [
    "FDG = pd.ExcelFile('Dataset/FDG_network.xlsx')\n",
    "FDG_features= []\n",
    "for i in FDG.sheet_names:\n",
    "    FDG_corr = FDG.parse(i,header=None)\n",
    "    indices = np.where(np.triu(np.ones(FDG_corr.shape), k=1).astype(bool))\n",
    "    FDG_features.append(list(np.array(FDG_corr)[indices]))\n",
    "    \n",
    "print('subject number:%s'%len(FDG_features))\n",
    "print('length of FDG Features:%s'%len(FDG_features[0]))"
   ]
  },
  {
   "cell_type": "markdown",
   "metadata": {},
   "source": [
    "## Read Subject Clinical Data"
   ]
  },
  {
   "cell_type": "code",
   "execution_count": 94,
   "metadata": {},
   "outputs": [
    {
     "name": "stdout",
     "output_type": "stream",
     "text": [
      "Clinical Feature 0\n",
      "AD:21\n",
      "MCI:25\n",
      "-------------------\n",
      "Clinical Feature 1\n",
      "1:46\n",
      "-------------------\n",
      "Clinical Feature 2\n",
      "1:39\n",
      "2:7\n",
      "-------------------\n",
      "Clinical Feature 3\n",
      "1:41\n",
      "2:5\n",
      "-------------------\n",
      "Clinical Feature 4\n",
      "1:18\n",
      "2:26\n",
      "3:2\n",
      "-------------------\n",
      "Clinical Feature 5\n",
      "0:17\n",
      "1:20\n",
      "2:7\n",
      "3:2\n",
      "-------------------\n"
     ]
    }
   ],
   "source": [
    "Subject_data = pd.read_excel('Dataset/ClinicalScores.xlsx',sheet_name='Scores2',header=None) \n",
    "for i in Subject_data.columns:\n",
    "    print('Clinical Feature %s'%i)\n",
    "    for j in np.unique(Subject_data[i]):\n",
    "        print('%s:%d'%(j,sum(Subject_data[i]==j)))\n",
    "    print('-------------------')"
   ]
  },
  {
   "cell_type": "code",
   "execution_count": 124,
   "metadata": {},
   "outputs": [],
   "source": [
    "y = [1 if i=='AD' else 0 for i in Subject_data[0]]"
   ]
  },
  {
   "cell_type": "markdown",
   "metadata": {},
   "source": [
    "## SVM-RFE (AV45)"
   ]
  },
  {
   "cell_type": "code",
   "execution_count": 143,
   "metadata": {},
   "outputs": [],
   "source": [
    "#RFE\n",
    "svc = SVC(kernel=\"linear\", C=1)\n",
    "rfe = RFE(estimator=svc, n_features_to_select=1, step=1)\n",
    "rfe.fit(AV45_features, y)\n",
    "\n",
    "#Find Top50 Features\n",
    "idx = []\n",
    "for i in range(1,51):\n",
    "    idx.append(list(rfe.ranking_).index(i))\n",
    "AV45_features_low_dim = pd.DataFrame(AV45_features)[idx]"
   ]
  },
  {
   "cell_type": "markdown",
   "metadata": {},
   "source": [
    "## SVM-RFE (FDG)"
   ]
  },
  {
   "cell_type": "code",
   "execution_count": 146,
   "metadata": {},
   "outputs": [],
   "source": [
    "#RFE\n",
    "svc = SVC(kernel=\"linear\", C=1)\n",
    "rfe = RFE(estimator=svc, n_features_to_select=1, step=1)\n",
    "rfe.fit(FDG_features, y)\n",
    "\n",
    "#Find Top50 Features\n",
    "idx = []\n",
    "for i in range(1,51):\n",
    "    idx.append(list(rfe.ranking_).index(i))\n",
    "FDG_features_low_dim = pd.DataFrame(FDG_features)[idx]"
   ]
  },
  {
   "cell_type": "markdown",
   "metadata": {},
   "source": [
    "## Simlarity (AV45)"
   ]
  },
  {
   "cell_type": "code",
   "execution_count": 158,
   "metadata": {},
   "outputs": [],
   "source": [
    "corr_dist = distance.pdist(np.array(AV45_features_low_dim),metric='correlation')\n",
    "corr_dist = distance.squareform(corr_dist)\n",
    "sigma = np.mean(corr_dist)\n",
    "AV45_simirality = np.exp(-corr_dist**2/(2*sigma**2))"
   ]
  },
  {
   "cell_type": "markdown",
   "metadata": {},
   "source": [
    "## Simlarity (FDG)"
   ]
  },
  {
   "cell_type": "code",
   "execution_count": 159,
   "metadata": {},
   "outputs": [],
   "source": [
    "corr_dist = distance.pdist(np.array(FDG_features_low_dim),metric='correlation')\n",
    "corr_dist = distance.squareform(corr_dist)\n",
    "sigma = np.mean(corr_dist)\n",
    "FDG_simirality = np.exp(-corr_dist**2/(2*sigma**2))"
   ]
  },
  {
   "cell_type": "code",
   "execution_count": 162,
   "metadata": {},
   "outputs": [],
   "source": [
    "rnd_state = np.random.RandomState()"
   ]
  },
  {
   "cell_type": "code",
   "execution_count": 174,
   "metadata": {},
   "outputs": [],
   "source": [
    "n = len(Subject_data)\n",
    "ids_all = Subject_data.index\n",
    "ids = ids_all[rnd_state.permutation(n)]\n",
    "stride = int(np.ceil(n / float(folds)))\n",
    "test_ids = [ids[i: i + stride] for i in range(0, n, stride)]\n",
    "\n",
    "train_ids = []\n",
    "for fold in range(folds):\n",
    "    train_ids.append(np.array([e for e in ids if e not in test_ids[fold]]))\n"
   ]
  },
  {
   "cell_type": "code",
   "execution_count": 179,
   "metadata": {},
   "outputs": [
    {
     "data": {
      "text/plain": [
       "Int64Index([40, 10, 20, 32, 43, 21, 36, 45, 18, 27], dtype='int64')"
      ]
     },
     "execution_count": 179,
     "metadata": {},
     "output_type": "execute_result"
    }
   ],
   "source": [
    "test_ids[0]"
   ]
  },
  {
   "cell_type": "code",
   "execution_count": 180,
   "metadata": {},
   "outputs": [
    {
     "data": {
      "text/plain": [
       "array([ 3,  7,  4, 39, 31, 24,  0, 17, 28, 42, 34, 13, 23,  8, 33, 30, 26,\n",
       "       11,  6, 15, 25, 38, 37,  9, 19,  5, 14, 29, 16,  2, 22, 44, 41,  1,\n",
       "       12, 35])"
      ]
     },
     "execution_count": 180,
     "metadata": {},
     "output_type": "execute_result"
    }
   ],
   "source": [
    "train_ids[0]"
   ]
  },
  {
   "cell_type": "code",
   "execution_count": 191,
   "metadata": {},
   "outputs": [],
   "source": [
    "y = [1 if i=='AD' else 0 for i in Subject_data[0][train_ids[0]]]\n",
    "\n",
    "#SVM-RFE (AV45)\n",
    "AV45_features_train = np.array(pd.DataFrame(AV45_features).loc[train_ids[0]])\n",
    "#RFE\n",
    "svc = SVC(kernel=\"linear\", C=1)\n",
    "rfe = RFE(estimator=svc, n_features_to_select=1, step=1)\n",
    "rfe.fit(AV45_features_train, y)\n",
    "#Find Top50 Features\n",
    "idx = []\n",
    "for i in range(1,51):\n",
    "    idx.append(list(rfe.ranking_).index(i))\n",
    "AV45_features_low_dim = pd.DataFrame(AV45_features)[idx]\n",
    "\n",
    "#SVM-RFE (FDG)\n",
    "FDG_features_train = np.array(pd.DataFrame(FDG_features).loc[train_ids[0]])\n",
    "#RFE\n",
    "svc = SVC(kernel=\"linear\", C=1)\n",
    "rfe = RFE(estimator=svc, n_features_to_select=1, step=1)\n",
    "rfe.fit(FDG_features_train, y)\n",
    "\n",
    "#Find Top50 Features\n",
    "idx = []\n",
    "for i in range(1,51):\n",
    "    idx.append(list(rfe.ranking_).index(i))\n",
    "FDG_features_low_dim = pd.DataFrame(FDG_features)[idx]\n"
   ]
  },
  {
   "cell_type": "markdown",
   "metadata": {},
   "source": [
    "## Edge Connection"
   ]
  },
  {
   "cell_type": "code",
   "execution_count": 205,
   "metadata": {},
   "outputs": [],
   "source": [
    "#Graph Edge Connection\n",
    "Subject_data_train = Subject_data.loc[train_ids[0]]\n",
    "idx_train_NC = Subject_data_train[Subject_data_train[0]=='MCI'].index\n",
    "idx_train_Pt = Subject_data_train[Subject_data_train[0]=='AD'].index\n",
    "idx_test = test_ids[0]\n",
    "\n",
    "#Adjacency Matrix (A): NC-->Pt-->test\n",
    "n = len(Subject_data)\n",
    "A = np.zeros([n,n])\n",
    "for i in range(len(idx_train_NC)):\n",
    "    for j in range(len(idx_train_NC)):\n",
    "        A[i,j] = 1\n",
    "for i in range(len(idx_train_NC),len(idx_train_NC)+len(idx_train_Pt)):\n",
    "     for j in range(len(idx_train_NC),len(idx_train_NC)+len(idx_train_Pt)):\n",
    "        A[i,j] = 1   \n",
    "for i in range(len(idx_train_NC)+len(idx_train_Pt),n):\n",
    "     for j in range(n):\n",
    "        A[i,j] = 1  "
   ]
  },
  {
   "cell_type": "markdown",
   "metadata": {},
   "source": [
    "## Edge Weight Initialization"
   ]
  },
  {
   "cell_type": "code",
   "execution_count": 255,
   "metadata": {},
   "outputs": [],
   "source": [
    "idx_order = idx_train_NC.append(idx_train_Pt).append(idx_test)\n",
    "#Similarity (SV45)\n",
    "AV45_features_low_dim = AV45_features_low_dim.loc[idx_order]\n",
    "corr_dist = distance.pdist(np.array(AV45_features_low_dim),metric='correlation')\n",
    "corr_dist = distance.squareform(corr_dist)\n",
    "sigma = np.mean(corr_dist)\n",
    "AV45_simirality = np.exp(-corr_dist**2/(2*sigma**2))\n",
    "#Similarity (FDG)\n",
    "FDG_features_low_dim = FDG_features_low_dim.loc[idx_order]\n",
    "corr_dist = distance.pdist(np.array(FDG_features_low_dim),metric='correlation')\n",
    "corr_dist = distance.squareform(corr_dist)\n",
    "sigma = np.mean(corr_dist)\n",
    "FDG_simirality = np.exp(-corr_dist**2/(2*sigma**2))\n",
    "\n",
    "#Phenotypic Information\n",
    "n = len(Subject_data)\n",
    "R = np.zeros([n,n])\n",
    "for i in Subject_data.columns[1:]:\n",
    "    a = list(Subject_data.loc[idx_order][i])\n",
    "    b = list(Subject_data.loc[idx_order][i])\n",
    "    for j in range(len(a)):\n",
    "        for k in range(len(b)):\n",
    "            if a[j]==b[k]:\n",
    "                R[j,k]+=1    "
   ]
  },
  {
   "cell_type": "markdown",
   "metadata": {},
   "source": [
    "## Initialized A"
   ]
  },
  {
   "cell_type": "code",
   "execution_count": 257,
   "metadata": {},
   "outputs": [],
   "source": [
    "A_AV45 = A*AV45_simirality*R\n",
    "A_FDG = A*FDG_simirality*R"
   ]
  },
  {
   "cell_type": "markdown",
   "metadata": {},
   "source": [
    "## Feature Matrix (X)"
   ]
  },
  {
   "cell_type": "code",
   "execution_count": 264,
   "metadata": {},
   "outputs": [],
   "source": [
    "X_AV45 = np.array(AV45_features)\n",
    "X_FDG = np.array(FDG_features)"
   ]
  },
  {
   "cell_type": "code",
   "execution_count": 271,
   "metadata": {},
   "outputs": [
    {
     "data": {
      "text/plain": [
       "array([[16.50479921,  8.40940433, 13.580844  , ...,  3.85043156,\n",
       "         1.77050309,  2.41058854],\n",
       "       [ 8.38686307,  5.0250034 , 11.95114217, ...,  2.53080841,\n",
       "         1.18902409,  2.02636602],\n",
       "       [16.34828462,  9.16836212, 13.76480228, ...,  4.10487776,\n",
       "         1.77847519,  2.62425547],\n",
       "       ...,\n",
       "       [33.97273333, 15.52226728, 33.53516707, ..., 10.8799571 ,\n",
       "         4.40611889,  6.89919383],\n",
       "       [16.8934571 ,  7.95830439, 17.34101817, ...,  5.62315631,\n",
       "         2.47612422,  5.57319312],\n",
       "       [32.94102469, 18.06109329, 32.9426309 , ..., 10.24409641,\n",
       "         4.17766103,  5.48173612]])"
      ]
     },
     "execution_count": 271,
     "metadata": {},
     "output_type": "execute_result"
    }
   ],
   "source": [
    "np.matmul(A_AV45, X_AV45)"
   ]
  },
  {
   "cell_type": "code",
   "execution_count": 269,
   "metadata": {},
   "outputs": [
    {
     "data": {
      "text/plain": [
       "array([[6.98178938e-01, 4.09230268e-03, 3.23655450e-02, ...,\n",
       "        9.87375816e-02, 9.65407523e-02, 7.70654505e-03],\n",
       "       [1.41082894e-01, 1.23279340e-01, 6.88792188e-01, ...,\n",
       "        1.20050475e-01, 9.55138747e-03, 8.19228522e-02],\n",
       "       [3.14625623e-01, 4.40464280e-04, 3.21873969e-01, ...,\n",
       "        2.54654569e-01, 3.75536842e-02, 1.39225869e-04],\n",
       "       ...,\n",
       "       [4.19546954e-01, 3.21754174e-02, 4.13260644e-01, ...,\n",
       "        1.08249447e-01, 8.82582978e-04, 3.97776211e-07],\n",
       "       [8.97744548e-02, 7.37884898e-04, 2.99755430e-02, ...,\n",
       "        7.04972171e-03, 2.85944201e-03, 6.12476143e-01],\n",
       "       [1.25274169e-01, 6.60014129e-02, 4.38887020e-01, ...,\n",
       "        5.06798360e-02, 4.38969197e-02, 5.30843792e-03]])"
      ]
     },
     "execution_count": 269,
     "metadata": {},
     "output_type": "execute_result"
    }
   ],
   "source": []
  },
  {
   "cell_type": "code",
   "execution_count": null,
   "metadata": {},
   "outputs": [],
   "source": []
  }
 ],
 "metadata": {
  "kernelspec": {
   "display_name": "Python 3",
   "language": "python",
   "name": "python3"
  },
  "language_info": {
   "codemirror_mode": {
    "name": "ipython",
    "version": 3
   },
   "file_extension": ".py",
   "mimetype": "text/x-python",
   "name": "python",
   "nbconvert_exporter": "python",
   "pygments_lexer": "ipython3",
   "version": "3.7.6"
  }
 },
 "nbformat": 4,
 "nbformat_minor": 4
}
