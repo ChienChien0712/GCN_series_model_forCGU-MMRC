{
 "cells": [
  {
   "cell_type": "code",
   "execution_count": 1,
   "metadata": {},
   "outputs": [],
   "source": [
    "import datetime\n",
    "import math\n",
    "import numpy as np\n",
    "import torch\n",
    "from torch import nn\n",
    "from torch.nn import Module, Parameter\n",
    "import torch.nn.functional as F"
   ]
  },
  {
   "cell_type": "code",
   "execution_count": 2,
   "metadata": {},
   "outputs": [],
   "source": [
    "class GNN(Module):\n",
    "    def __init__(self, hidden_size, step=1):\n",
    "        super(GNN, self).__init__()\n",
    "        self.step = step #1\n",
    "        self.hidden_size = hidden_size #100維度\n",
    "        self.input_size = hidden_size * 2 #200\n",
    "        self.gate_size = 3 * hidden_size #300\n",
    "        # Parameter(output dim, input dim)\n",
    "        self.w_ih = Parameter(torch.Tensor(self.gate_size, self.input_size)) #weight:300,200\n",
    "        self.w_hh = Parameter(torch.Tensor(self.gate_size, self.hidden_size)) #weight:300,100\n",
    "        self.b_ih = Parameter(torch.Tensor(self.gate_size)) #bias:300\n",
    "        self.b_hh = Parameter(torch.Tensor(self.gate_size)) #bias:300\n",
    "        self.b_iah = Parameter(torch.Tensor(self.hidden_size)) #bias:100\n",
    "        self.b_oah = Parameter(torch.Tensor(self.hidden_size)) #bias:100\n",
    "\n",
    "        self.linear_edge_in = nn.Linear(self.hidden_size, self.hidden_size, bias=True) #(100,100)+100\n",
    "        self.linear_edge_out = nn.Linear(self.hidden_size, self.hidden_size, bias=True) #(100,100)+100\n",
    "        self.linear_edge_f = nn.Linear(self.hidden_size, self.hidden_size, bias=True) #(100,100)+100\n",
    "\n",
    "    def GNNCell(self, A, hidden):\n",
    "        #A.shape = batch_size * max_n_node * (2 max_n_node)\n",
    "        #hidden.shape = batch_size * max_n_node * 100\n",
    "        #A[:, :, :A.shape[1]]: batch_size * max_n_node * max_n_node\n",
    "        #self.linear_edge_in(hidden): batch_size * max_n_node * 100\n",
    "        #input_in.shape: batch_size * max_n_node * 100\n",
    "        input_in = torch.matmul(A[:, :, :A.shape[1]], self.linear_edge_in(hidden)) + self.b_iah\n",
    "        input_out = torch.matmul(A[:, :, A.shape[1]: 2 * A.shape[1]], self.linear_edge_out(hidden)) + self.b_oah\n",
    "        #inputs.shape: batch_size * max_n_node * 200 \n",
    "        inputs = torch.cat([input_in, input_out], 2)\n",
    "        #self.w_ih.shape: 200 * 300\n",
    "        #gi.shape: batch_size * max_n_node * 300\n",
    "        gi = F.linear(inputs, self.w_ih, self.b_ih)\n",
    "        #self.w_hh.shape: 200 * 300\n",
    "        #gh.shape: batch_size * max_n_node * 300\n",
    "        gh = F.linear(hidden, self.w_hh, self.b_hh)\n",
    "        #dim(i_r): batch_size * max_n_node * 100\n",
    "        i_r, i_i, i_n = gi.chunk(3, 2) #torch.chunk(): 沿著dim=2，平切分3塊\n",
    "        h_r, h_i, h_n = gh.chunk(3, 2)\n",
    "        resetgate = torch.sigmoid(i_r + h_r)\n",
    "        inputgate = torch.sigmoid(i_i + h_i)\n",
    "        newgate = torch.tanh(i_n + resetgate * h_n)\n",
    "        hy = newgate + inputgate * (hidden - newgate)\n",
    "        return hy\n",
    "\n",
    "    def forward(self, A, hidden):\n",
    "        for i in range(self.step): #step:1\n",
    "            hidden = self.GNNCell(A, hidden)\n",
    "        return hidden\n",
    "\n",
    "class SessionGraph(Module):\n",
    "    #opt: parser.parse_args('')\n",
    "    def __init__(self, opt, n_node):\n",
    "        super(SessionGraph, self).__init__()\n",
    "        self.hidden_size = opt.hiddenSize #100\n",
    "        self.n_node = n_node #310\n",
    "        self.batch_size = opt.batchSize #100\n",
    "        self.nonhybrid = opt.nonhybrid #False\n",
    "        self.embedding = nn.Embedding(self.n_node, self.hidden_size) #有310個node，轉成100個維度表示\n",
    "        self.gnn = GNN(self.hidden_size, step=opt.step) #hidden_size:100 , step:1\n",
    "        self.linear_one = nn.Linear(self.hidden_size, self.hidden_size, bias=True) #(100,100)+100\n",
    "        self.linear_two = nn.Linear(self.hidden_size, self.hidden_size, bias=True) #(100,100)+100\n",
    "        self.linear_three = nn.Linear(self.hidden_size, 1, bias=False) #(100,1)\n",
    "        self.linear_transform = nn.Linear(self.hidden_size * 2, self.hidden_size, bias=True) #(200,100)+100\n",
    "        self.loss_function = nn.CrossEntropyLoss() #loss_function():CrossEntropyLoss()\n",
    "        #optimizer: 1.self.parameters() 2.lr=0.001 3.weight_decay=1e-5\n",
    "        self.optimizer = torch.optim.Adam(self.parameters(), lr=opt.lr, weight_decay=opt.l2) \n",
    "        #scheduler: 調整learning rate。 1.self.optimizer 2.step_size=3(每三個epoch下降lr) 3.gamma=0.1(每次下降為原本的0.1倍)\n",
    "        self.scheduler = torch.optim.lr_scheduler.StepLR(self.optimizer, step_size=opt.lr_dc_step, gamma=opt.lr_dc)\n",
    "        #先初始化parameters\n",
    "        self.reset_parameters() #函數先建立在下方\n",
    "\n",
    "    def reset_parameters(self):\n",
    "        stdv = 1.0 / math.sqrt(self.hidden_size)\n",
    "        for weight in self.parameters():\n",
    "            weight.data.uniform_(-stdv, stdv)\n",
    "\n",
    "    def compute_scores(self, hidden, mask):\n",
    "        #hidden:最後輸出的結果，對於每一個item_chain得到一個100維度的結果\n",
    "        #mask.shape[0] = batch_size\n",
    "        #ht: input item的最後一個hidden(100維)結果（不包含補0）\n",
    "        #ht.shape: batch_size * 100\n",
    "        ht = hidden[torch.arange(mask.shape[0]).long(), torch.sum(mask, 1) - 1] \n",
    "        #ht -->fc--> q1\n",
    "        #q1: 每個item chain的最後一個item都打壓成(1 * 100)  # batch_size * 1 * 100\n",
    "        q1 = self.linear_one(ht).view(ht.shape[0], 1, ht.shape[1])\n",
    "        #hidden.shape: batch_size * max_n_node * 100\n",
    "        #hidden --> fc --> q2\n",
    "        #q2: item chain的全部item都在一次fully connected轉換 # batch_size * max_n_node * 100\n",
    "        q2 = self.linear_two(hidden)  \n",
    "        #q1+q2: batch_size * max_n_node * 100 (q2中每個item都加上q1)\n",
    "        #alpha: batch_size * max_n_node * 1\n",
    "        alpha = self.linear_three(torch.sigmoid(q1 + q2))\n",
    "        #alpha * hidden * mask.view(mask.shape[0], -1, 1).float()\n",
    "        #(batch_size*max_n_node*1) * (batch_size*max_n_node * 100) * (batch_size*max_n_node*1)\n",
    "        #a: mask=1的items 100維相加\n",
    "        #a.shape: batch_size * 100維\n",
    "        a = torch.sum(alpha * hidden * mask.view(mask.shape[0], -1, 1).float(), 1)\n",
    "        if not self.nonhybrid:\n",
    "            #如果nonhybrid = Fasle:\n",
    "            #將a改成 concatenate(a, ht): shape = batch_size * 200維\n",
    "            a = self.linear_transform(torch.cat([a, ht], 1))\n",
    "        #b: 不包含0，為1~309對應的100維字典\n",
    "        b = self.embedding.weight[1:]\n",
    "        #a維度: batch_size * 200\n",
    "        #b.transpose(1, 0)維度: 100 * 309\n",
    "        #scores維度: batch_size * 309\n",
    "        scores = torch.matmul(a, b.transpose(1, 0))\n",
    "        return scores\n",
    "\n",
    "    def forward(self, inputs, A):\n",
    "        #input是一個items:單一items為[0, 17, 18, 0, 0, ...]\n",
    "        #self.embedding: 查找0~309數字，所對應在100維空間的字典\n",
    "        #inputs.shape = batch_size * max_n_node \n",
    "        hidden = self.embedding(inputs) #hidden.shape = batch_size * max_n_node * 100\n",
    "        hidden = self.gnn(A, hidden) #執行GNN.forward(A, hidden)\n",
    "        return hidden\n",
    "\n",
    "\n",
    "def trans_to_cuda(variable):\n",
    "    if torch.cuda.is_available():\n",
    "        return variable.cuda()\n",
    "    else:\n",
    "        return variable\n",
    "\n",
    "\n",
    "def trans_to_cpu(variable):\n",
    "    if torch.cuda.is_available():\n",
    "        return variable.cpu()\n",
    "    else:\n",
    "        return variable\n",
    "\n",
    "\n",
    "def forward(model, i, data):\n",
    "    #i: 一個batch的index\n",
    "    #data: Data類別的train_data或test_data\n",
    "    \n",
    "    #單一alias_inputs: [1, 1, 2, 2, 2, 0, 0, 0, 0, 0, 0, 0, 0, 0, 0, 0]\n",
    "    #單一A:concate(incoming, outgoing)\n",
    "    #單一items: [0, 17, 18, 0, 0, ...]\n",
    "    #單一mask: [1, 1, 1, 1, 1, 0, 0, 0, 0, 0, 0, 0, 0, 0, 0, 0]\n",
    "    #單一targets: 17\n",
    "    alias_inputs, A, items, mask, targets = data.get_slice(i)\n",
    "    alias_inputs = trans_to_cuda(torch.Tensor(alias_inputs).long())\n",
    "    items = trans_to_cuda(torch.Tensor(items).long())\n",
    "    A = trans_to_cuda(torch.Tensor(A).float())\n",
    "    mask = trans_to_cuda(torch.Tensor(mask).long())\n",
    "    #model(items, A): 執行SessionGraph.forward()\n",
    "    hidden = model(items, A)\n",
    "    #執行完gnn的hidden: shape=batch_size * max_n_node * 100\n",
    "    get = lambda i: hidden[i][alias_inputs[i]]\n",
    "    seq_hidden = torch.stack([get(i) for i in torch.arange(len(alias_inputs)).long()])\n",
    "    #seq_hidden把下面的alias的每個item表達成hidden 100維的形式\n",
    "    #alias_inputs: [1, 1, 2, 2, 2, 0, 0, 0, 0, 0, 0, 0, 0, 0, 0, 0]\n",
    "    #targets維度: batch_size * 1\n",
    "    #scores維度: batch_size * 309\n",
    "    return targets, model.compute_scores(seq_hidden, mask)\n",
    "\n",
    "\n",
    "def train_test(model, train_data, test_data):\n",
    "    #model.scheduler.step(): 依照model設定好的scheduler更新learning rate\n",
    "    model.scheduler.step()\n",
    "    print('start training: ', datetime.datetime.now())\n",
    "    #model.train(): 開啟訓練模式\n",
    "    model.train()\n",
    "    #total_loss: 之後每個batch的loss會加入\n",
    "    total_loss = 0.0\n",
    "    #slices: 為呼叫inputs, mask, targets的batch index\n",
    "    slices = train_data.generate_batch(model.batch_size) #opt設定的batch_size為100\n",
    "    for i, j in zip(slices, np.arange(len(slices))):\n",
    "        #i為一個batch的index\n",
    "        #j為第幾個batch，從0開始\n",
    "        model.optimizer.zero_grad()\n",
    "        #targets維度: batch_size * 1\n",
    "        #scores維度: batch_size * 309\n",
    "        targets, scores = forward(model, i, train_data)\n",
    "        targets = trans_to_cuda(torch.Tensor(targets).long())\n",
    "        #scores:309個位置\n",
    "        #targets - 1: 目標(正確答案)的位置\n",
    "        loss = model.loss_function(scores, targets - 1)\n",
    "        loss.backward()\n",
    "        model.optimizer.step()\n",
    "        total_loss += loss\n",
    "        if j % int(len(slices) / 5 + 1) == 0:\n",
    "            print('[%d/%d] Loss: %.4f' % (j, len(slices), loss.item()))\n",
    "    print('\\tLoss:\\t%.3f' % total_loss)\n",
    "\n",
    "    print('start predicting: ', datetime.datetime.now())\n",
    "    model.eval()\n",
    "    hit, mrr = [], []\n",
    "    slices = test_data.generate_batch(model.batch_size)\n",
    "    for i in slices:\n",
    "        targets, scores = forward(model, i, test_data)\n",
    "        #sub_scores: 分數最高的前20名之index\n",
    "        sub_scores = scores.topk(20)[1]\n",
    "        sub_scores = trans_to_cpu(sub_scores).detach().numpy()\n",
    "    \n",
    "        for score, target, mask in zip(sub_scores, targets, test_data.mask):\n",
    "            #score:分數前20的index shape=20\n",
    "            #targets:正確答案 shape=1\n",
    "            #score代表一次推薦20個產品\n",
    "            #hit代表，推薦的20個產品中，有沒有打中正確答案\n",
    "            hit.append(np.isin(target - 1, score))\n",
    "            if len(np.where(score == target - 1)[0]) == 0:\n",
    "                #如果推薦項目沒中，mrr append 0\n",
    "                mrr.append(0)\n",
    "            else:\n",
    "                #如果推薦項目中在第0位: append 1\n",
    "                #如果推薦項目中在第1位: append 1/2\n",
    "                #如果推薦項目中在第2位: append 1/3\n",
    "                mrr.append(1 / (np.where(score == target - 1)[0][0] + 1))\n",
    "    hit = np.mean(hit) * 100\n",
    "    mrr = np.mean(mrr) * 100\n",
    "    #hit: 推薦有中的比率 0~100%\n",
    "    #mrr: 推薦有中的準確度 0~100%\n",
    "    return hit, mrr\n"
   ]
  },
  {
   "cell_type": "code",
   "execution_count": 3,
   "metadata": {},
   "outputs": [],
   "source": [
    "def data_masks(all_usr_pois, item_tail):\n",
    "    us_lens = [len(upois) for upois in all_usr_pois]\n",
    "    len_max = max(us_lens)\n",
    "    us_pois = [upois + item_tail * (len_max - le) for upois, le in zip(all_usr_pois, us_lens)]\n",
    "    us_msks = [[1] * le + [0] * (len_max - le) for le in us_lens]\n",
    "    return us_pois, us_msks, len_max\n",
    "\n",
    "def split_validation(train_set, valid_portion):\n",
    "    train_set_x, train_set_y = train_set\n",
    "    n_samples = len(train_set_x)\n",
    "    sidx = np.arange(n_samples, dtype='int32')\n",
    "    np.random.shuffle(sidx)\n",
    "    n_train = int(np.round(n_samples * (1. - valid_portion)))\n",
    "    valid_set_x = [train_set_x[s] for s in sidx[n_train:]]\n",
    "    valid_set_y = [train_set_y[s] for s in sidx[n_train:]]\n",
    "    train_set_x = [train_set_x[s] for s in sidx[:n_train]]\n",
    "    train_set_y = [train_set_y[s] for s in sidx[:n_train]]\n",
    "\n",
    "    return (train_set_x, train_set_y), (valid_set_x, valid_set_y)\n",
    "\n",
    "\n",
    "class Data():\n",
    "    def __init__(self, data, shuffle=False, graph=None):\n",
    "        inputs = data[0] \n",
    "        inputs, mask, len_max = data_masks(inputs, [0])\n",
    "        self.inputs = np.asarray(inputs) #inputs: 補零後的自變相items_index chain(x)\n",
    "        self.mask = np.asarray(mask) #mask: 自變相items_index chain中，有items_index為1；補零值為0\n",
    "        self.len_max = len_max #len_max: 最長的自變相items_index chain\n",
    "        self.targets = np.asarray(data[1]) #targets: 預測的正解\n",
    "        self.length = len(inputs) #length: 樣本數\n",
    "        self.shuffle = shuffle #shuffle: True/False\n",
    "        self.graph = graph\n",
    "\n",
    "    def generate_batch(self, batch_size):\n",
    "        if self.shuffle:\n",
    "            shuffled_arg = np.arange(self.length)\n",
    "            np.random.shuffle(shuffled_arg) #新的排序\n",
    "            self.inputs = self.inputs[shuffled_arg] \n",
    "            self.mask = self.mask[shuffled_arg]\n",
    "            self.targets = self.targets[shuffled_arg]\n",
    "        n_batch = int(self.length / batch_size) # n_batch: 共有__個batch\n",
    "        if self.length % batch_size != 0:\n",
    "            n_batch += 1\n",
    "        #np.split(list, int): 把list平均切成int份\n",
    "        slices = np.split(np.arange(n_batch * batch_size), n_batch)\n",
    "        slices[-1] = slices[-1][:(self.length - batch_size * (n_batch - 1))]\n",
    "        #slices: 為呼叫inputs, mask, targets的batch index\n",
    "        return slices\n",
    "\n",
    "    def get_slice(self, i):\n",
    "        #i: 為單一batch呼叫inputs, mask, targets的index\n",
    "        inputs, mask, targets = self.inputs[i], self.mask[i], self.targets[i]\n",
    "        items, n_node, A, alias_inputs = [], [], [], []\n",
    "        for u_input in inputs:\n",
    "            #u_input範例: array([17, 17, 18, 18, 18,  0,  0,  0,  0,  0,  0,  0,  0,  0,  0,  0])\n",
    "            #n_node: 在一個session中，unique(item_index)數目\n",
    "            n_node.append(len(np.unique(u_input))) #範例=3\n",
    "        #max_n_node: 在某一個batch中，最大的n_node\n",
    "        max_n_node = np.max(n_node) \n",
    "        for u_input in inputs:\n",
    "            #node: 在一個session中，unique(item_index)\n",
    "            node = np.unique(u_input) #範例: array([0, 17, 18])\n",
    "            #items: 每個session中，都去除了重複item後的item chain，剩下補0，讓一個batch中，chain的長度都一樣\n",
    "            items.append(node.tolist() + (max_n_node - len(node)) * [0]) #範例[0, 17, 18, 0, 0, ......]\n",
    "            #u_A: 某個session的A矩陣\n",
    "            u_A = np.zeros((max_n_node, max_n_node))\n",
    "            for i in np.arange(len(u_input) - 1): \n",
    "                #假設: u_input=array([17, 17, 18, 18, 18,  0,  0,  0,  0,  0,  0,  0,  0,  0,  0,  0])\n",
    "                #假設: len(u_input)=16\n",
    "                #假設: i範圍=array([ 0,  1,  2,  3,  4,  5,  6,  7,  8,  9, 10, 11, 12, 13, 14])\n",
    "                if u_input[i + 1] == 0:\n",
    "                    break\n",
    "                #假設node=array([0, 17, 18])\n",
    "                #u_A為有向的A矩陣\n",
    "                u = np.where(node == u_input[i])[0][0]\n",
    "                v = np.where(node == u_input[i + 1])[0][0]\n",
    "                u_A[u][v] = 1\n",
    "            #row正規化\n",
    "            u_sum_in = np.sum(u_A, 0)\n",
    "            u_sum_in[np.where(u_sum_in == 0)] = 1\n",
    "            u_A_in = np.divide(u_A, u_sum_in)\n",
    "            u_sum_out = np.sum(u_A, 1)\n",
    "            u_sum_out[np.where(u_sum_out == 0)] = 1\n",
    "            u_A_out = np.divide(u_A.transpose(), u_sum_out)\n",
    "            #製作connection matrix A:左半邊為incoming edges；右半邊為outgoing edges\n",
    "            u_A = np.concatenate([u_A_in, u_A_out]).transpose()\n",
    "            A.append(u_A)\n",
    "            #假設: u_input=array([17, 17, 18, 18, 18,  0,  0,  0,  0,  0,  0,  0,  0,  0,  0,  0])\n",
    "            #假設: alias_inputs=[1, 1, 2, 2, 2, 0, 0, 0, 0, 0, 0, 0, 0, 0, 0, 0]\n",
    "            alias_inputs.append([np.where(node == i)[0][0] for i in u_input])\n",
    "        return alias_inputs, A, items, mask, targets\n",
    "                #alias_inputs: [1, 1, 2, 2, 2, 0, 0, 0, 0, 0, 0, 0, 0, 0, 0, 0]\n",
    "                #A:\n",
    "                #items: [0, 17, 18, 0, 0, ...]\n",
    "                #mask: [1, 1, 1, 1, 1, 0, 0, 0, 0, 0, 0, 0, 0, 0, 0, 0]\n",
    "                #targets: 17"
   ]
  },
  {
   "cell_type": "code",
   "execution_count": 4,
   "metadata": {},
   "outputs": [],
   "source": [
    "import argparse\n",
    "import pickle\n",
    "import time\n"
   ]
  },
  {
   "cell_type": "code",
   "execution_count": 5,
   "metadata": {},
   "outputs": [
    {
     "name": "stdout",
     "output_type": "stream",
     "text": [
      "Namespace(batchSize=100, dataset='sample', epoch=30, hiddenSize=100, l2=1e-05, lr=0.001, lr_dc=0.1, lr_dc_step=3, nonhybrid=False, patience=10, step=1, valid_portion=0.1, validation=False)\n"
     ]
    }
   ],
   "source": [
    "parser = argparse.ArgumentParser()\n",
    "parser.add_argument('--dataset', default='sample', help='dataset name: diginetica/yoochoose1_4/yoochoose1_64/sample')\n",
    "parser.add_argument('--batchSize', type=int, default=100, help='input batch size')\n",
    "parser.add_argument('--hiddenSize', type=int, default=100, help='hidden state size')\n",
    "parser.add_argument('--epoch', type=int, default=30, help='the number of epochs to train for')\n",
    "parser.add_argument('--lr', type=float, default=0.001, help='learning rate')  # [0.001, 0.0005, 0.0001]\n",
    "parser.add_argument('--lr_dc', type=float, default=0.1, help='learning rate decay rate')\n",
    "parser.add_argument('--lr_dc_step', type=int, default=3, help='the number of steps after which the learning rate decay')\n",
    "parser.add_argument('--l2', type=float, default=1e-5, help='l2 penalty')  # [0.001, 0.0005, 0.0001, 0.00005, 0.00001]\n",
    "parser.add_argument('--step', type=int, default=1, help='gnn propogation steps')\n",
    "parser.add_argument('--patience', type=int, default=10, help='the number of epoch to wait before early stop ')\n",
    "parser.add_argument('--nonhybrid', action='store_true', help='only use the global preference to predict')\n",
    "parser.add_argument('--validation', action='store_true', help='validation')\n",
    "parser.add_argument('--valid_portion', type=float, default=0.1, help='split the portion of training set as validation set')\n",
    "opt = parser.parse_args('')\n",
    "print(opt)\n"
   ]
  },
  {
   "cell_type": "code",
   "execution_count": 6,
   "metadata": {},
   "outputs": [],
   "source": [
    "#load training set\n",
    "train_data = pickle.load(open('pickle_dataset/' + opt.dataset + '/train.txt', 'rb'))\n",
    "#load training set or validation set\n",
    "if opt.validation:\n",
    "    train_data, valid_data = split_validation(train_data, opt.valid_portion)\n",
    "    test_data = valid_data\n",
    "else:\n",
    "    test_data = pickle.load(open('pickle_dataset/' + opt.dataset + '/test.txt', 'rb'))\n",
    "#轉成Data\n",
    "train_data = Data(train_data, shuffle=True)\n",
    "test_data = Data(test_data, shuffle=False)    \n"
   ]
  },
  {
   "cell_type": "code",
   "execution_count": 7,
   "metadata": {},
   "outputs": [
    {
     "data": {
      "text/plain": [
       "SessionGraph(\n",
       "  (embedding): Embedding(310, 100)\n",
       "  (gnn): GNN(\n",
       "    (linear_edge_in): Linear(in_features=100, out_features=100, bias=True)\n",
       "    (linear_edge_out): Linear(in_features=100, out_features=100, bias=True)\n",
       "    (linear_edge_f): Linear(in_features=100, out_features=100, bias=True)\n",
       "  )\n",
       "  (linear_one): Linear(in_features=100, out_features=100, bias=True)\n",
       "  (linear_two): Linear(in_features=100, out_features=100, bias=True)\n",
       "  (linear_three): Linear(in_features=100, out_features=1, bias=False)\n",
       "  (linear_transform): Linear(in_features=200, out_features=100, bias=True)\n",
       "  (loss_function): CrossEntropyLoss()\n",
       ")"
      ]
     },
     "execution_count": 7,
     "metadata": {},
     "output_type": "execute_result"
    }
   ],
   "source": [
    "n_node = 310 \n",
    "#SessionGraph為訓練模型\n",
    "model = trans_to_cuda(SessionGraph(opt, n_node))\n",
    "model"
   ]
  },
  {
   "cell_type": "code",
   "execution_count": null,
   "metadata": {
    "scrolled": false
   },
   "outputs": [
    {
     "name": "stdout",
     "output_type": "stream",
     "text": [
      "-------------------------------------------------------\n",
      "epoch:  0\n",
      "start training:  2021-05-27 11:49:34.981923\n"
     ]
    },
    {
     "name": "stderr",
     "output_type": "stream",
     "text": [
      "C:\\Users\\chienhua\\anaconda3\\lib\\site-packages\\torch\\optim\\lr_scheduler.py:122: UserWarning: Detected call of `lr_scheduler.step()` before `optimizer.step()`. In PyTorch 1.1.0 and later, you should call them in the opposite order: `optimizer.step()` before `lr_scheduler.step()`.  Failure to do this will result in PyTorch skipping the first value of the learning rate schedule. See more details at https://pytorch.org/docs/stable/optim.html#how-to-adjust-learning-rate\n",
      "  \"https://pytorch.org/docs/stable/optim.html#how-to-adjust-learning-rate\", UserWarning)\n"
     ]
    },
    {
     "name": "stdout",
     "output_type": "stream",
     "text": [
      "[0/10] Loss: 5.7360\n",
      "[3/10] Loss: 5.7201\n",
      "[6/10] Loss: 5.7216\n",
      "[9/10] Loss: 5.6961\n",
      "\tLoss:\t57.173\n",
      "start predicting:  2021-05-27 11:49:36.194859\n",
      "[array(False), array(False), array(False), array(False), array(False), array(False), array(False), array(False), array(False), array(False), array(False), array(False), array(True), array(False), array(False), array(False), array(False), array(False), array(False), array(False), array(False), array(False), array(False), array(True), array(False), array(False), array(False), array(False), array(False), array(False), array(False), array(False), array(False), array(False), array(False), array(False), array(False), array(False), array(False), array(False), array(False), array(False), array(False), array(True), array(False), array(False), array(True), array(False), array(False), array(False), array(False), array(False), array(True), array(False), array(False), array(False), array(False), array(False), array(False), array(False), array(False), array(False), array(False), array(False), array(False), array(False), array(False), array(False), array(False), array(False), array(False), array(False), array(False), array(False), array(False), array(False), array(False), array(False), array(False), array(False), array(False), array(False), array(False), array(False), array(False), array(False), array(False), array(False)]\n",
      "5.681818181818182\n",
      "[0, 0, 0, 0, 0, 0, 0, 0, 0, 0, 0, 0, 0.3333333333333333, 0, 0, 0, 0, 0, 0, 0, 0, 0, 0, 0.05, 0, 0, 0, 0, 0, 0, 0, 0, 0, 0, 0, 0, 0, 0, 0, 0, 0, 0, 0, 0.14285714285714285, 0, 0, 0.05555555555555555, 0, 0, 0, 0, 0, 0.05263157894736842, 0, 0, 0, 0, 0, 0, 0, 0, 0, 0, 0, 0, 0, 0, 0, 0, 0, 0, 0, 0, 0, 0, 0, 0, 0, 0, 0, 0, 0, 0, 0, 0, 0, 0, 0]\n",
      "0.7208836485152275\n",
      "Best Result:\n",
      "\tRecall@20:\t5.6818\tMMR@20:\t0.7209\tEpoch:\t0,\t0\n",
      "-------------------------------------------------------\n",
      "epoch:  1\n",
      "start training:  2021-05-27 11:49:36.252857\n",
      "[0/10] Loss: 5.6582\n",
      "[3/10] Loss: 5.5897\n",
      "[6/10] Loss: 5.5050\n",
      "[9/10] Loss: 5.5051\n",
      "\tLoss:\t55.398\n",
      "start predicting:  2021-05-27 11:49:37.188858\n",
      "[array(False), array(False), array(False), array(False), array(False), array(False), array(False), array(False), array(False), array(False), array(False), array(False), array(True), array(False), array(False), array(False), array(False), array(False), array(False), array(False), array(False), array(False), array(False), array(False), array(False), array(False), array(False), array(False), array(False), array(False), array(False), array(False), array(False), array(False), array(False), array(False), array(False), array(False), array(False), array(False), array(False), array(False), array(False), array(True), array(False), array(False), array(False), array(False), array(False), array(False), array(False), array(False), array(False), array(False), array(False), array(False), array(False), array(False), array(False), array(False), array(False), array(False), array(False), array(False), array(False), array(False), array(False), array(False), array(False), array(False), array(False), array(False), array(False), array(False), array(False), array(False), array(False), array(False), array(False), array(False), array(False), array(False), array(False), array(False), array(False), array(False), array(False), array(False)]\n",
      "2.272727272727273\n",
      "[0, 0, 0, 0, 0, 0, 0, 0, 0, 0, 0, 0, 1.0, 0, 0, 0, 0, 0, 0, 0, 0, 0, 0, 0, 0, 0, 0, 0, 0, 0, 0, 0, 0, 0, 0, 0, 0, 0, 0, 0, 0, 0, 0, 0.125, 0, 0, 0, 0, 0, 0, 0, 0, 0, 0, 0, 0, 0, 0, 0, 0, 0, 0, 0, 0, 0, 0, 0, 0, 0, 0, 0, 0, 0, 0, 0, 0, 0, 0, 0, 0, 0, 0, 0, 0, 0, 0, 0, 0]\n",
      "1.278409090909091\n",
      "Best Result:\n",
      "\tRecall@20:\t5.6818\tMMR@20:\t1.2784\tEpoch:\t0,\t1\n",
      "-------------------------------------------------------\n",
      "epoch:  2\n",
      "start training:  2021-05-27 11:49:37.245859\n",
      "[0/10] Loss: 5.2287\n",
      "[3/10] Loss: 5.3388\n",
      "[6/10] Loss: 5.3109\n",
      "[9/10] Loss: 5.3061\n",
      "\tLoss:\t53.038\n",
      "start predicting:  2021-05-27 11:49:38.155858\n",
      "[array(False), array(False), array(False), array(False), array(False), array(False), array(False), array(False), array(False), array(False), array(False), array(False), array(True), array(False), array(False), array(False), array(False), array(False), array(False), array(False), array(False), array(False), array(False), array(False), array(False), array(False), array(False), array(False), array(False), array(False), array(False), array(False), array(False), array(False), array(False), array(False), array(False), array(False), array(False), array(False), array(False), array(False), array(False), array(True), array(False), array(False), array(False), array(False), array(False), array(False), array(False), array(False), array(False), array(False), array(False), array(False), array(False), array(False), array(False), array(False), array(False), array(False), array(False), array(False), array(False), array(False), array(False), array(False), array(False), array(False), array(False), array(False), array(False), array(False), array(False), array(False), array(False), array(False), array(False), array(False), array(False), array(False), array(False), array(False), array(False), array(False), array(False), array(False)]\n",
      "2.272727272727273\n",
      "[0, 0, 0, 0, 0, 0, 0, 0, 0, 0, 0, 0, 1.0, 0, 0, 0, 0, 0, 0, 0, 0, 0, 0, 0, 0, 0, 0, 0, 0, 0, 0, 0, 0, 0, 0, 0, 0, 0, 0, 0, 0, 0, 0, 0.125, 0, 0, 0, 0, 0, 0, 0, 0, 0, 0, 0, 0, 0, 0, 0, 0, 0, 0, 0, 0, 0, 0, 0, 0, 0, 0, 0, 0, 0, 0, 0, 0, 0, 0, 0, 0, 0, 0, 0, 0, 0, 0, 0, 0]\n",
      "1.278409090909091\n",
      "Best Result:\n",
      "\tRecall@20:\t5.6818\tMMR@20:\t1.2784\tEpoch:\t0,\t2\n",
      "-------------------------------------------------------\n",
      "epoch:  3\n",
      "start training:  2021-05-27 11:49:38.212858\n",
      "[0/10] Loss: 5.2468\n",
      "[3/10] Loss: 5.3247\n",
      "[6/10] Loss: 5.2354\n",
      "[9/10] Loss: 5.2311\n",
      "\tLoss:\t52.637\n",
      "start predicting:  2021-05-27 11:49:39.155857\n",
      "[array(False), array(False), array(False), array(False), array(False), array(False), array(False), array(False), array(False), array(False), array(False), array(False), array(True), array(False), array(False), array(False), array(False), array(False), array(False), array(False), array(False), array(False), array(False), array(False), array(False), array(False), array(False), array(False), array(False), array(False), array(False), array(False), array(False), array(False), array(False), array(False), array(False), array(False), array(False), array(False), array(False), array(False), array(False), array(True), array(False), array(False), array(False), array(False), array(False), array(False), array(False), array(False), array(False), array(False), array(False), array(False), array(False), array(False), array(False), array(False), array(False), array(False), array(False), array(False), array(False), array(False), array(False), array(False), array(False), array(False), array(False), array(False), array(False), array(False), array(False), array(False), array(False), array(False), array(False), array(False), array(False), array(False), array(True), array(False), array(False), array(False), array(False), array(False)]\n",
      "3.4090909090909087\n",
      "[0, 0, 0, 0, 0, 0, 0, 0, 0, 0, 0, 0, 1.0, 0, 0, 0, 0, 0, 0, 0, 0, 0, 0, 0, 0, 0, 0, 0, 0, 0, 0, 0, 0, 0, 0, 0, 0, 0, 0, 0, 0, 0, 0, 0.14285714285714285, 0, 0, 0, 0, 0, 0, 0, 0, 0, 0, 0, 0, 0, 0, 0, 0, 0, 0, 0, 0, 0, 0, 0, 0, 0, 0, 0, 0, 0, 0, 0, 0, 0, 0, 0, 0, 0, 0, 0.05263157894736842, 0, 0, 0, 0, 0]\n",
      "1.3585099111414902\n",
      "Best Result:\n",
      "\tRecall@20:\t5.6818\tMMR@20:\t1.3585\tEpoch:\t0,\t3\n",
      "-------------------------------------------------------\n",
      "epoch:  4\n",
      "start training:  2021-05-27 11:49:39.212858\n",
      "[0/10] Loss: 5.3371\n",
      "[3/10] Loss: 5.1417\n",
      "[6/10] Loss: 5.2281\n",
      "[9/10] Loss: 5.2467\n",
      "\tLoss:\t52.266\n",
      "start predicting:  2021-05-27 11:49:40.178858\n",
      "[array(False), array(False), array(False), array(False), array(False), array(False), array(False), array(False), array(False), array(False), array(False), array(False), array(True), array(False), array(False), array(False), array(False), array(False), array(False), array(False), array(False), array(False), array(False), array(False), array(False), array(False), array(False), array(False), array(False), array(False), array(False), array(False), array(False), array(False), array(False), array(False), array(False), array(False), array(False), array(False), array(False), array(False), array(False), array(True), array(False), array(False), array(False), array(False), array(False), array(False), array(False), array(False), array(False), array(False), array(False), array(False), array(False), array(False), array(False), array(False), array(False), array(False), array(False), array(False), array(False), array(False), array(False), array(False), array(False), array(False), array(False), array(False), array(False), array(False), array(False), array(False), array(False), array(False), array(False), array(False), array(False), array(False), array(True), array(False), array(False), array(True), array(False), array(False)]\n",
      "4.545454545454546\n",
      "[0, 0, 0, 0, 0, 0, 0, 0, 0, 0, 0, 0, 1.0, 0, 0, 0, 0, 0, 0, 0, 0, 0, 0, 0, 0, 0, 0, 0, 0, 0, 0, 0, 0, 0, 0, 0, 0, 0, 0, 0, 0, 0, 0, 0.16666666666666666, 0, 0, 0, 0, 0, 0, 0, 0, 0, 0, 0, 0, 0, 0, 0, 0, 0, 0, 0, 0, 0, 0, 0, 0, 0, 0, 0, 0, 0, 0, 0, 0, 0, 0, 0, 0, 0, 0, 0.058823529411764705, 0, 0, 0.05555555555555555, 0, 0]\n",
      "1.455733808674985\n",
      "Best Result:\n",
      "\tRecall@20:\t5.6818\tMMR@20:\t1.4557\tEpoch:\t0,\t4\n",
      "-------------------------------------------------------\n",
      "epoch:  5\n",
      "start training:  2021-05-27 11:49:40.234858\n",
      "[0/10] Loss: 5.2278\n"
     ]
    },
    {
     "name": "stdout",
     "output_type": "stream",
     "text": [
      "[3/10] Loss: 5.2031\n",
      "[6/10] Loss: 5.2363\n",
      "[9/10] Loss: 5.1014\n",
      "\tLoss:\t51.964\n",
      "start predicting:  2021-05-27 11:49:41.156858\n",
      "[array(False), array(False), array(False), array(False), array(False), array(False), array(False), array(False), array(False), array(False), array(False), array(False), array(True), array(False), array(False), array(False), array(False), array(False), array(False), array(False), array(False), array(False), array(False), array(False), array(False), array(False), array(False), array(False), array(False), array(False), array(False), array(False), array(False), array(False), array(False), array(False), array(False), array(False), array(False), array(False), array(False), array(False), array(False), array(True), array(False), array(False), array(False), array(False), array(False), array(False), array(False), array(False), array(False), array(False), array(False), array(False), array(False), array(False), array(False), array(False), array(False), array(False), array(False), array(False), array(False), array(False), array(False), array(False), array(False), array(False), array(False), array(False), array(False), array(False), array(False), array(False), array(False), array(False), array(False), array(False), array(False), array(False), array(True), array(False), array(False), array(True), array(False), array(False)]\n",
      "4.545454545454546\n",
      "[0, 0, 0, 0, 0, 0, 0, 0, 0, 0, 0, 0, 1.0, 0, 0, 0, 0, 0, 0, 0, 0, 0, 0, 0, 0, 0, 0, 0, 0, 0, 0, 0, 0, 0, 0, 0, 0, 0, 0, 0, 0, 0, 0, 0.16666666666666666, 0, 0, 0, 0, 0, 0, 0, 0, 0, 0, 0, 0, 0, 0, 0, 0, 0, 0, 0, 0, 0, 0, 0, 0, 0, 0, 0, 0, 0, 0, 0, 0, 0, 0, 0, 0, 0, 0, 0.058823529411764705, 0, 0, 0.05555555555555555, 0, 0]\n",
      "1.455733808674985\n",
      "Best Result:\n",
      "\tRecall@20:\t5.6818\tMMR@20:\t1.4557\tEpoch:\t0,\t5\n",
      "-------------------------------------------------------\n",
      "epoch:  6\n",
      "start training:  2021-05-27 11:49:41.210858\n",
      "[0/10] Loss: 5.2482\n",
      "[3/10] Loss: 5.2702\n",
      "[6/10] Loss: 5.1861\n",
      "[9/10] Loss: 5.2502\n",
      "\tLoss:\t51.965\n",
      "start predicting:  2021-05-27 11:49:42.126857\n",
      "[array(False), array(False), array(False), array(False), array(False), array(False), array(False), array(False), array(False), array(False), array(False), array(False), array(True), array(False), array(False), array(False), array(False), array(False), array(False), array(False), array(False), array(False), array(False), array(False), array(False), array(False), array(False), array(False), array(False), array(False), array(False), array(False), array(False), array(False), array(False), array(False), array(False), array(False), array(False), array(False), array(False), array(False), array(False), array(True), array(False), array(False), array(False), array(False), array(False), array(False), array(False), array(False), array(False), array(False), array(False), array(False), array(False), array(False), array(False), array(False), array(False), array(False), array(False), array(False), array(False), array(False), array(False), array(False), array(False), array(False), array(False), array(False), array(False), array(False), array(False), array(False), array(False), array(False), array(False), array(False), array(False), array(False), array(True), array(False), array(False), array(True), array(False), array(False)]\n",
      "4.545454545454546\n",
      "[0, 0, 0, 0, 0, 0, 0, 0, 0, 0, 0, 0, 1.0, 0, 0, 0, 0, 0, 0, 0, 0, 0, 0, 0, 0, 0, 0, 0, 0, 0, 0, 0, 0, 0, 0, 0, 0, 0, 0, 0, 0, 0, 0, 0.16666666666666666, 0, 0, 0, 0, 0, 0, 0, 0, 0, 0, 0, 0, 0, 0, 0, 0, 0, 0, 0, 0, 0, 0, 0, 0, 0, 0, 0, 0, 0, 0, 0, 0, 0, 0, 0, 0, 0, 0, 0.058823529411764705, 0, 0, 0.05555555555555555, 0, 0]\n",
      "1.455733808674985\n",
      "Best Result:\n",
      "\tRecall@20:\t5.6818\tMMR@20:\t1.4557\tEpoch:\t0,\t6\n",
      "-------------------------------------------------------\n",
      "epoch:  7\n",
      "start training:  2021-05-27 11:49:42.188858\n",
      "[0/10] Loss: 5.0826\n",
      "[3/10] Loss: 5.2906\n",
      "[6/10] Loss: 5.0901\n",
      "[9/10] Loss: 5.2180\n",
      "\tLoss:\t51.919\n",
      "start predicting:  2021-05-27 11:49:43.116382\n",
      "[array(False), array(False), array(False), array(False), array(False), array(False), array(False), array(False), array(False), array(False), array(False), array(False), array(True), array(False), array(False), array(False), array(False), array(False), array(False), array(False), array(False), array(False), array(False), array(False), array(False), array(False), array(False), array(False), array(False), array(False), array(False), array(False), array(False), array(False), array(False), array(False), array(False), array(False), array(False), array(False), array(False), array(False), array(False), array(True), array(False), array(False), array(False), array(False), array(False), array(False), array(False), array(False), array(False), array(False), array(False), array(False), array(False), array(False), array(False), array(False), array(False), array(False), array(False), array(False), array(False), array(False), array(False), array(False), array(False), array(False), array(False), array(False), array(False), array(False), array(False), array(False), array(False), array(False), array(False), array(False), array(False), array(False), array(True), array(False), array(False), array(True), array(False), array(False)]\n",
      "4.545454545454546\n",
      "[0, 0, 0, 0, 0, 0, 0, 0, 0, 0, 0, 0, 1.0, 0, 0, 0, 0, 0, 0, 0, 0, 0, 0, 0, 0, 0, 0, 0, 0, 0, 0, 0, 0, 0, 0, 0, 0, 0, 0, 0, 0, 0, 0, 0.14285714285714285, 0, 0, 0, 0, 0, 0, 0, 0, 0, 0, 0, 0, 0, 0, 0, 0, 0, 0, 0, 0, 0, 0, 0, 0, 0, 0, 0, 0, 0, 0, 0, 0, 0, 0, 0, 0, 0, 0, 0.058823529411764705, 0, 0, 0.058823529411764705, 0, 0]\n",
      "1.432391138273491\n",
      "Best Result:\n",
      "\tRecall@20:\t5.6818\tMMR@20:\t1.4557\tEpoch:\t0,\t6\n",
      "-------------------------------------------------------\n",
      "epoch:  8\n",
      "start training:  2021-05-27 11:49:43.174382\n",
      "[0/10] Loss: 5.1648\n",
      "[3/10] Loss: 5.3364\n",
      "[6/10] Loss: 5.2040\n",
      "[9/10] Loss: 5.1613\n",
      "\tLoss:\t51.879\n",
      "start predicting:  2021-05-27 11:49:44.131381\n",
      "[array(False), array(False), array(False), array(False), array(False), array(False), array(False), array(False), array(False), array(False), array(False), array(False), array(True), array(False), array(False), array(False), array(False), array(False), array(False), array(False), array(False), array(False), array(False), array(False), array(False), array(False), array(False), array(False), array(False), array(False), array(False), array(False), array(False), array(False), array(False), array(False), array(False), array(False), array(False), array(False), array(False), array(False), array(False), array(True), array(False), array(False), array(False), array(False), array(False), array(False), array(False), array(False), array(False), array(False), array(False), array(False), array(False), array(False), array(False), array(False), array(False), array(False), array(False), array(False), array(False), array(False), array(False), array(False), array(False), array(False), array(False), array(False), array(False), array(False), array(False), array(False), array(False), array(False), array(False), array(False), array(False), array(False), array(True), array(False), array(False), array(True), array(False), array(False)]\n",
      "4.545454545454546\n",
      "[0, 0, 0, 0, 0, 0, 0, 0, 0, 0, 0, 0, 1.0, 0, 0, 0, 0, 0, 0, 0, 0, 0, 0, 0, 0, 0, 0, 0, 0, 0, 0, 0, 0, 0, 0, 0, 0, 0, 0, 0, 0, 0, 0, 0.16666666666666666, 0, 0, 0, 0, 0, 0, 0, 0, 0, 0, 0, 0, 0, 0, 0, 0, 0, 0, 0, 0, 0, 0, 0, 0, 0, 0, 0, 0, 0, 0, 0, 0, 0, 0, 0, 0, 0, 0, 0.058823529411764705, 0, 0, 0.058823529411764705, 0, 0]\n",
      "1.459447415329768\n",
      "Best Result:\n",
      "\tRecall@20:\t5.6818\tMMR@20:\t1.4594\tEpoch:\t0,\t8\n",
      "-------------------------------------------------------\n",
      "epoch:  9\n",
      "start training:  2021-05-27 11:49:44.188382\n",
      "[0/10] Loss: 5.2517\n"
     ]
    }
   ],
   "source": [
    "start = time.time()\n",
    "best_result = [0, 0]\n",
    "best_epoch = [0, 0]\n",
    "bad_counter = 0\n",
    "#opt.epoch:30\n",
    "for epoch in range(opt.epoch):\n",
    "    print('-------------------------------------------------------')\n",
    "    print('epoch: ', epoch)\n",
    "    hit, mrr = train_test(model, train_data, test_data)\n",
    "    print('hit: %.4f%%'%hit)\n",
    "    print('mrr: %.4f%%'%mrr)\n",
    "    flag = 0\n",
    "    if hit >= best_result[0]:\n",
    "        best_result[0] = hit\n",
    "        best_epoch[0] = epoch\n",
    "        flag = 1\n",
    "    if mrr >= best_result[1]:\n",
    "        best_result[1] = mrr\n",
    "        best_epoch[1] = epoch\n",
    "        flag = 1\n",
    "    print('Best Result:')\n",
    "    print('\\tRecall@20:\\t%.4f%%\\tMMR@20:\\t%.4f%%\\tEpoch:\\t%d,\\t%d'% (best_result[0], best_result[1], best_epoch[0], best_epoch[1]))\n",
    "    bad_counter += 1 - flag\n",
    "    if bad_counter >= opt.patience:\n",
    "        break\n",
    "print('-------------------------------------------------------')\n",
    "end = time.time()\n",
    "print(\"Run time: %f s\" % (end - start))"
   ]
  },
  {
   "cell_type": "code",
   "execution_count": null,
   "metadata": {},
   "outputs": [],
   "source": [
    "train_data.targets[0]"
   ]
  },
  {
   "cell_type": "code",
   "execution_count": 76,
   "metadata": {},
   "outputs": [
    {
     "data": {
      "text/plain": [
       "[0, 17, 18, 0, 0]"
      ]
     },
     "execution_count": 76,
     "metadata": {},
     "output_type": "execute_result"
    }
   ],
   "source": [
    "max_n_node = 5\n",
    "node=np.unique(train_data.inputs[0])\n",
    "node.tolist() + (max_n_node - len(node)) * [0]"
   ]
  },
  {
   "cell_type": "code",
   "execution_count": 77,
   "metadata": {},
   "outputs": [
    {
     "data": {
      "text/plain": [
       "array([ 0,  1,  2,  3,  4,  5,  6,  7,  8,  9, 10, 11, 12, 13, 14])"
      ]
     },
     "execution_count": 77,
     "metadata": {},
     "output_type": "execute_result"
    }
   ],
   "source": [
    "np.arange(len(train_data.inputs[0]) - 1)"
   ]
  },
  {
   "cell_type": "code",
   "execution_count": 92,
   "metadata": {},
   "outputs": [],
   "source": [
    "u_A = np.zeros((6, 6))\n",
    "u_input = np.array([17, 17, 18, 18, 18,  0,  0,  0,  0,  0,  0,  0,  0,  0,  0,  0])\n",
    "node = np.array([0, 17, 18])\n",
    "for i in range(len(u_input)-1):\n",
    "    if u_input[i + 1] == 0:\n",
    "        break\n",
    "    u = np.where(node == u_input[i])[0][0]\n",
    "    v = np.where(node == u_input[i + 1])[0][0]\n",
    "    u_A[u,v] = 1\n"
   ]
  },
  {
   "cell_type": "code",
   "execution_count": 95,
   "metadata": {},
   "outputs": [
    {
     "data": {
      "text/plain": [
       "array([[0., 0., 0., 0., 0., 0.],\n",
       "       [0., 1., 1., 0., 0., 0.],\n",
       "       [0., 0., 1., 0., 0., 0.],\n",
       "       [0., 0., 0., 0., 0., 0.],\n",
       "       [0., 0., 0., 0., 0., 0.],\n",
       "       [0., 0., 0., 0., 0., 0.]])"
      ]
     },
     "execution_count": 95,
     "metadata": {},
     "output_type": "execute_result"
    }
   ],
   "source": [
    "u_A "
   ]
  },
  {
   "cell_type": "code",
   "execution_count": 97,
   "metadata": {},
   "outputs": [
    {
     "data": {
      "text/plain": [
       "array([[0. , 0. , 0. , 0. , 0. , 0. ],\n",
       "       [0. , 1. , 0.5, 0. , 0. , 0. ],\n",
       "       [0. , 0. , 0.5, 0. , 0. , 0. ],\n",
       "       [0. , 0. , 0. , 0. , 0. , 0. ],\n",
       "       [0. , 0. , 0. , 0. , 0. , 0. ],\n",
       "       [0. , 0. , 0. , 0. , 0. , 0. ]])"
      ]
     },
     "execution_count": 97,
     "metadata": {},
     "output_type": "execute_result"
    }
   ],
   "source": [
    "u_sum_in = np.sum(u_A, 0)\n",
    "u_sum_in[np.where(u_sum_in == 0)] = 1\n",
    "u_sum_in\n",
    "u_A_in = np.divide(u_A, u_sum_in)\n",
    "u_A_in"
   ]
  },
  {
   "cell_type": "code",
   "execution_count": 99,
   "metadata": {},
   "outputs": [
    {
     "data": {
      "text/plain": [
       "array([[0. , 0. , 0. , 0. , 0. , 0. ],\n",
       "       [0. , 0.5, 0. , 0. , 0. , 0. ],\n",
       "       [0. , 0.5, 1. , 0. , 0. , 0. ],\n",
       "       [0. , 0. , 0. , 0. , 0. , 0. ],\n",
       "       [0. , 0. , 0. , 0. , 0. , 0. ],\n",
       "       [0. , 0. , 0. , 0. , 0. , 0. ]])"
      ]
     },
     "execution_count": 99,
     "metadata": {},
     "output_type": "execute_result"
    }
   ],
   "source": [
    "u_sum_out = np.sum(u_A, 1)\n",
    "u_sum_out[np.where(u_sum_out == 0)] = 1\n",
    "u_A_out = np.divide(u_A.transpose(), u_sum_out)\n",
    "u_A_out"
   ]
  },
  {
   "cell_type": "code",
   "execution_count": 100,
   "metadata": {},
   "outputs": [
    {
     "data": {
      "text/plain": [
       "array([[0. , 0. , 0. , 0. , 0. , 0. , 0. , 0. , 0. , 0. , 0. , 0. ],\n",
       "       [0. , 1. , 0. , 0. , 0. , 0. , 0. , 0.5, 0.5, 0. , 0. , 0. ],\n",
       "       [0. , 0.5, 0.5, 0. , 0. , 0. , 0. , 0. , 1. , 0. , 0. , 0. ],\n",
       "       [0. , 0. , 0. , 0. , 0. , 0. , 0. , 0. , 0. , 0. , 0. , 0. ],\n",
       "       [0. , 0. , 0. , 0. , 0. , 0. , 0. , 0. , 0. , 0. , 0. , 0. ],\n",
       "       [0. , 0. , 0. , 0. , 0. , 0. , 0. , 0. , 0. , 0. , 0. , 0. ]])"
      ]
     },
     "execution_count": 100,
     "metadata": {},
     "output_type": "execute_result"
    }
   ],
   "source": [
    "u_A = np.concatenate([u_A_in, u_A_out]).transpose()\n",
    "u_A"
   ]
  },
  {
   "cell_type": "code",
   "execution_count": 103,
   "metadata": {},
   "outputs": [
    {
     "data": {
      "text/plain": [
       "[1, 1, 2, 2, 2, 0, 0, 0, 0, 0, 0, 0, 0, 0, 0, 0]"
      ]
     },
     "execution_count": 103,
     "metadata": {},
     "output_type": "execute_result"
    }
   ],
   "source": [
    "[np.where(node == i)[0][0] for i in u_input]"
   ]
  },
  {
   "cell_type": "code",
   "execution_count": 119,
   "metadata": {},
   "outputs": [],
   "source": [
    "embedding_func = nn.Embedding(10, 3)"
   ]
  },
  {
   "cell_type": "code",
   "execution_count": 128,
   "metadata": {},
   "outputs": [
    {
     "data": {
      "text/plain": [
       "tensor([[[-1.0111,  0.1273, -1.7649],\n",
       "         [ 1.4157, -1.2836, -0.7689],\n",
       "         [-1.0008, -0.1458,  1.8766],\n",
       "         [-1.6405,  0.5546, -0.2541],\n",
       "         [ 0.4076, -1.1727,  1.2310]],\n",
       "\n",
       "        [[-1.0111,  0.1273, -1.7649],\n",
       "         [ 1.4157, -1.2836, -0.7689],\n",
       "         [-1.0008, -0.1458,  1.8766],\n",
       "         [-1.6405,  0.5546, -0.2541],\n",
       "         [ 0.4076, -1.1727,  1.2310]]], grad_fn=<EmbeddingBackward>)"
      ]
     },
     "execution_count": 128,
     "metadata": {},
     "output_type": "execute_result"
    }
   ],
   "source": [
    "inputs = torch.tensor([[1, 2, 3, 4, 5],[1, 2, 3, 4, 5]])\n",
    "embedding_func(inputs)"
   ]
  },
  {
   "cell_type": "code",
   "execution_count": null,
   "metadata": {},
   "outputs": [],
   "source": []
  }
 ],
 "metadata": {
  "kernelspec": {
   "display_name": "Python 3",
   "language": "python",
   "name": "python3"
  },
  "language_info": {
   "codemirror_mode": {
    "name": "ipython",
    "version": 3
   },
   "file_extension": ".py",
   "mimetype": "text/x-python",
   "name": "python",
   "nbconvert_exporter": "python",
   "pygments_lexer": "ipython3",
   "version": "3.7.6"
  }
 },
 "nbformat": 4,
 "nbformat_minor": 4
}
